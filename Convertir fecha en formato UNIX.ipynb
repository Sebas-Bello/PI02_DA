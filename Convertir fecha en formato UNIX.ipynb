{
 "cells": [
  {
   "cell_type": "markdown",
   "metadata": {},
   "source": [
    "El objetivo del código es calcular y mostrar las marcas de tiempo UNIX correspondientes a una fecha de inicio y una fecha de fin específicas."
   ]
  },
  {
   "cell_type": "code",
   "execution_count": 1,
   "metadata": {},
   "outputs": [
    {
     "name": "stdout",
     "output_type": "stream",
     "text": [
      "Marca de tiempo inicio: 1230786000\n",
      "Marca de tiempo fin: 1691643599\n"
     ]
    }
   ],
   "source": [
    "from datetime import datetime\n",
    "\n",
    "# Definir la fecha de inicio y fin en formato datetime\n",
    "fecha_inicio = datetime(2009, 1, 1, 0, 0, 0)  # Año, mes, día, hora, minuto, segundo\n",
    "fecha_fin = datetime(2023, 8, 9, 23, 59, 59)\n",
    "\n",
    "# Calcular las marcas de tiempo UNIX\n",
    "marca_tiempo_inicio = int(fecha_inicio.timestamp())\n",
    "marca_tiempo_fin = int(fecha_fin.timestamp())\n",
    "\n",
    "print(\"Marca de tiempo inicio:\", marca_tiempo_inicio)\n",
    "print(\"Marca de tiempo fin:\", marca_tiempo_fin)"
   ]
  },
  {
   "cell_type": "markdown",
   "metadata": {},
   "source": [
    "Se obtiene la cantidad de días transcurridos desde el lanzamiento de una criptomoneda hasta la fecha actual. Para lograr esto, se utiliza la API de CoinGecko para obtener la fecha de inicio (lanzamiento) y luego se calcula la diferencia en días entre esa fecha y la fecha actual."
   ]
  },
  {
   "cell_type": "code",
   "execution_count": 4,
   "metadata": {},
   "outputs": [
    {
     "name": "stdout",
     "output_type": "stream",
     "text": [
      "La cantidad de días transcurridos desde el lanzamiento de Ethereum es: 5331 días.\n"
     ]
    }
   ],
   "source": [
    "import requests\n",
    "from datetime import datetime\n",
    "\n",
    "def days_since_start():\n",
    "    # Obtener datos actuales de Ethereum desde la API CoinGecko\n",
    "    response = requests.get(\"https://api.coingecko.com/api/v3/coins/bitcoin\")\n",
    "    data = response.json()\n",
    "\n",
    "    # Obtener la fecha de inicio (lanzamiento) de Ethereum desde los datos\n",
    "    start_date_str = data[\"genesis_date\"]\n",
    "\n",
    "    # Convertir la fecha de inicio a un objeto datetime\n",
    "    start_date = datetime.strptime(start_date_str, \"%Y-%m-%d\")\n",
    "\n",
    "    # Obtener la fecha actual\n",
    "    current_date = datetime.now()\n",
    "\n",
    "    # Calcular la diferencia en días\n",
    "    days_difference = (current_date - start_date).days\n",
    "\n",
    "    return days_difference\n",
    "\n",
    "# Llamar a la función y mostrar la cantidad de días transcurridos\n",
    "days = days_since_start()\n",
    "print(f\"La cantidad de días transcurridos desde el lanzamiento de Ethereum es: {days} días.\")"
   ]
  }
 ],
 "metadata": {
  "kernelspec": {
   "display_name": "Python 3",
   "language": "python",
   "name": "python3"
  },
  "language_info": {
   "codemirror_mode": {
    "name": "ipython",
    "version": 3
   },
   "file_extension": ".py",
   "mimetype": "text/x-python",
   "name": "python",
   "nbconvert_exporter": "python",
   "pygments_lexer": "ipython3",
   "version": "3.11.3"
  },
  "orig_nbformat": 4
 },
 "nbformat": 4,
 "nbformat_minor": 2
}
